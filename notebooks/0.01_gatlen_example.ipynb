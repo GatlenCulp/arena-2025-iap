{
 "cells": [
  {
   "cell_type": "markdown",
   "metadata": {},
   "source": [
    "# Example Notebook"
   ]
  },
  {
   "cell_type": "markdown",
   "metadata": {},
   "source": [
    "We often name notebooks with a scheme that looks like this:\n",
    "\n",
    "```\n",
    "0.01_pjb_data-source-1.ipynb\n",
    "```\n",
    "\n",
    "- `0.01` - Helps leep work in chronological order. The structure is `PHASE.NOTEBOOK`. `NOTEBOOK` is just the Nth notebook in that phase to be created. For phases of the project, we generally use a scheme like the following, but you are welcome to design your own conventions:\n",
    "  - `0` - Data exploration - often just for exploratory work\n",
    "  - `1` - Data cleaning and feature creation - often writes data to `data/processed` or `data/interim`\n",
    "  - `2` - Visualizations - often writes publication-ready viz to `reports`\n",
    "  - `3` - Modeling - training machine learning models\n",
    "  - `4` - Publication - Notebooks that get turned directly into reports\n",
    "- `pjb` - Your initials or name; this is helpful for knowing who created the notebook and prevents collisions from people working in the same notebook.\n",
    "- `data-source-1` - A description of what the notebook covers\n",
    "\n",
    "Now that you have your notebook going, start your analysis!"
   ]
  },
  {
   "cell_type": "markdown",
   "metadata": {},
   "source": [
    "## 01 Imports"
   ]
  },
  {
   "cell_type": "code",
   "execution_count": 1,
   "metadata": {},
   "outputs": [],
   "source": [
    "%load_ext autoreload\n",
    "%autoreload 2"
   ]
  },
  {
   "cell_type": "code",
   "execution_count": 2,
   "metadata": {},
   "outputs": [
    {
     "name": "stdout",
     "output_type": "stream",
     "text": [
      "Hello\n"
     ]
    }
   ],
   "source": [
    "print(\"Hello\")"
   ]
  }
 ],
 "metadata": {
  "kernelspec": {
   "display_name": ".venv",
   "language": "python",
   "name": "python3"
  },
  "language_info": {
   "codemirror_mode": {
    "name": "ipython",
    "version": 3
   },
   "file_extension": ".py",
   "mimetype": "text/x-python",
   "name": "python",
   "nbconvert_exporter": "python",
   "pygments_lexer": "ipython3",
   "version": "3.11.10"
  }
 },
 "nbformat": 4,
 "nbformat_minor": 2
}
